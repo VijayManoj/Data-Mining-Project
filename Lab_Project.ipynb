{
  "nbformat": 4,
  "nbformat_minor": 0,
  "metadata": {
    "colab": {
      "name": "Lab Project.ipynb",
      "provenance": [],
      "collapsed_sections": []
    },
    "kernelspec": {
      "name": "python3",
      "display_name": "Python 3"
    }
  },
  "cells": [
    {
      "cell_type": "code",
      "metadata": {
        "colab": {
          "base_uri": "https://localhost:8080/"
        },
        "id": "x2E90sySSNY6",
        "outputId": "609fc6a9-2e33-4dda-bd5c-791352c58e37"
      },
      "source": [
        "import pandas as pd\n",
        "\n",
        "#Loading the Data Set \n",
        "data_1=pd.read_csv(\"adult.csv\")\n",
        "print(data_1)\n",
        "\n",
        "data_2=data_1"
      ],
      "execution_count": null,
      "outputs": [
        {
          "output_type": "stream",
          "text": [
            "       age     workclass  fnlwgt  ... hours-per-week  native-country income\n",
            "0       25       Private  226802  ...             40   United-States  <=50K\n",
            "1       38       Private   89814  ...             50   United-States  <=50K\n",
            "2       28     Local-gov  336951  ...             40   United-States   >50K\n",
            "3       44       Private  160323  ...             40   United-States   >50K\n",
            "4       18             ?  103497  ...             30   United-States  <=50K\n",
            "...    ...           ...     ...  ...            ...             ...    ...\n",
            "48837   27       Private  257302  ...             38   United-States  <=50K\n",
            "48838   40       Private  154374  ...             40   United-States   >50K\n",
            "48839   58       Private  151910  ...             40   United-States  <=50K\n",
            "48840   22       Private  201490  ...             20   United-States  <=50K\n",
            "48841   52  Self-emp-inc  287927  ...             40   United-States   >50K\n",
            "\n",
            "[48842 rows x 15 columns]\n"
          ],
          "name": "stdout"
        }
      ]
    },
    {
      "cell_type": "code",
      "metadata": {
        "colab": {
          "base_uri": "https://localhost:8080/",
          "height": 397
        },
        "id": "9D4WGr-cSlSV",
        "outputId": "ad160b94-a4fb-4c8e-d502-eb40c54fbcc5"
      },
      "source": [
        "#To know about the Columns\n",
        "\n",
        "print(data_1.columns)\n",
        "\n",
        "#To know about the Number of Rows and Columns\n",
        "\n",
        "print(data_1.shape)\n",
        "\n",
        "data_1.head()"
      ],
      "execution_count": null,
      "outputs": [
        {
          "output_type": "stream",
          "text": [
            "Index(['age', 'workclass', 'fnlwgt', 'education', 'educational-num',\n",
            "       'marital-status', 'occupation', 'relationship', 'race', 'gender',\n",
            "       'capital-gain', 'capital-loss', 'hours-per-week', 'native-country',\n",
            "       'income'],\n",
            "      dtype='object')\n",
            "(48842, 15)\n"
          ],
          "name": "stdout"
        },
        {
          "output_type": "execute_result",
          "data": {
            "text/html": [
              "<div>\n",
              "<style scoped>\n",
              "    .dataframe tbody tr th:only-of-type {\n",
              "        vertical-align: middle;\n",
              "    }\n",
              "\n",
              "    .dataframe tbody tr th {\n",
              "        vertical-align: top;\n",
              "    }\n",
              "\n",
              "    .dataframe thead th {\n",
              "        text-align: right;\n",
              "    }\n",
              "</style>\n",
              "<table border=\"1\" class=\"dataframe\">\n",
              "  <thead>\n",
              "    <tr style=\"text-align: right;\">\n",
              "      <th></th>\n",
              "      <th>age</th>\n",
              "      <th>workclass</th>\n",
              "      <th>fnlwgt</th>\n",
              "      <th>education</th>\n",
              "      <th>educational-num</th>\n",
              "      <th>marital-status</th>\n",
              "      <th>occupation</th>\n",
              "      <th>relationship</th>\n",
              "      <th>race</th>\n",
              "      <th>gender</th>\n",
              "      <th>capital-gain</th>\n",
              "      <th>capital-loss</th>\n",
              "      <th>hours-per-week</th>\n",
              "      <th>native-country</th>\n",
              "      <th>income</th>\n",
              "    </tr>\n",
              "  </thead>\n",
              "  <tbody>\n",
              "    <tr>\n",
              "      <th>0</th>\n",
              "      <td>25</td>\n",
              "      <td>Private</td>\n",
              "      <td>226802</td>\n",
              "      <td>11th</td>\n",
              "      <td>7</td>\n",
              "      <td>Never-married</td>\n",
              "      <td>Machine-op-inspct</td>\n",
              "      <td>Own-child</td>\n",
              "      <td>Black</td>\n",
              "      <td>Male</td>\n",
              "      <td>0</td>\n",
              "      <td>0</td>\n",
              "      <td>40</td>\n",
              "      <td>United-States</td>\n",
              "      <td>&lt;=50K</td>\n",
              "    </tr>\n",
              "    <tr>\n",
              "      <th>1</th>\n",
              "      <td>38</td>\n",
              "      <td>Private</td>\n",
              "      <td>89814</td>\n",
              "      <td>HS-grad</td>\n",
              "      <td>9</td>\n",
              "      <td>Married-civ-spouse</td>\n",
              "      <td>Farming-fishing</td>\n",
              "      <td>Husband</td>\n",
              "      <td>White</td>\n",
              "      <td>Male</td>\n",
              "      <td>0</td>\n",
              "      <td>0</td>\n",
              "      <td>50</td>\n",
              "      <td>United-States</td>\n",
              "      <td>&lt;=50K</td>\n",
              "    </tr>\n",
              "    <tr>\n",
              "      <th>2</th>\n",
              "      <td>28</td>\n",
              "      <td>Local-gov</td>\n",
              "      <td>336951</td>\n",
              "      <td>Assoc-acdm</td>\n",
              "      <td>12</td>\n",
              "      <td>Married-civ-spouse</td>\n",
              "      <td>Protective-serv</td>\n",
              "      <td>Husband</td>\n",
              "      <td>White</td>\n",
              "      <td>Male</td>\n",
              "      <td>0</td>\n",
              "      <td>0</td>\n",
              "      <td>40</td>\n",
              "      <td>United-States</td>\n",
              "      <td>&gt;50K</td>\n",
              "    </tr>\n",
              "    <tr>\n",
              "      <th>3</th>\n",
              "      <td>44</td>\n",
              "      <td>Private</td>\n",
              "      <td>160323</td>\n",
              "      <td>Some-college</td>\n",
              "      <td>10</td>\n",
              "      <td>Married-civ-spouse</td>\n",
              "      <td>Machine-op-inspct</td>\n",
              "      <td>Husband</td>\n",
              "      <td>Black</td>\n",
              "      <td>Male</td>\n",
              "      <td>7688</td>\n",
              "      <td>0</td>\n",
              "      <td>40</td>\n",
              "      <td>United-States</td>\n",
              "      <td>&gt;50K</td>\n",
              "    </tr>\n",
              "    <tr>\n",
              "      <th>4</th>\n",
              "      <td>18</td>\n",
              "      <td>?</td>\n",
              "      <td>103497</td>\n",
              "      <td>Some-college</td>\n",
              "      <td>10</td>\n",
              "      <td>Never-married</td>\n",
              "      <td>?</td>\n",
              "      <td>Own-child</td>\n",
              "      <td>White</td>\n",
              "      <td>Female</td>\n",
              "      <td>0</td>\n",
              "      <td>0</td>\n",
              "      <td>30</td>\n",
              "      <td>United-States</td>\n",
              "      <td>&lt;=50K</td>\n",
              "    </tr>\n",
              "  </tbody>\n",
              "</table>\n",
              "</div>"
            ],
            "text/plain": [
              "   age  workclass  fnlwgt  ... hours-per-week  native-country income\n",
              "0   25    Private  226802  ...             40   United-States  <=50K\n",
              "1   38    Private   89814  ...             50   United-States  <=50K\n",
              "2   28  Local-gov  336951  ...             40   United-States   >50K\n",
              "3   44    Private  160323  ...             40   United-States   >50K\n",
              "4   18          ?  103497  ...             30   United-States  <=50K\n",
              "\n",
              "[5 rows x 15 columns]"
            ]
          },
          "metadata": {
            "tags": []
          },
          "execution_count": 77
        }
      ]
    },
    {
      "cell_type": "code",
      "metadata": {
        "id": "Ua6YmuxTU4Vq"
      },
      "source": [
        "#Information about Categorical Columns \n",
        "print(\"WorkClass\")\n",
        "print(data_1['workclass'])\n",
        "print('education')\n",
        "print(data_1['education'])\n",
        "print(\"Marital-Status\")\n",
        "print(data_1['marital-status'])\n",
        "print(\"Occupation\")\n",
        "print(data_1['occupation'])\n",
        "print(\"Relationship\")\n",
        "print(data_1['relationship'])\n",
        "print(\"Race\")\n",
        "print(data_1['race'])\n",
        "print('Gender')\n",
        "print(data_1['gender'])\n",
        "print('Native-Country')\n",
        "print(data_1['native-country'])"
      ],
      "execution_count": null,
      "outputs": []
    },
    {
      "cell_type": "code",
      "metadata": {
        "id": "Yj5x4Cj4T-Dg"
      },
      "source": [
        "#Here the values are in the format of '?' taking that consideration we can convert them into nan values\n",
        "\n",
        "import numpy as np\n",
        "\n",
        "data_1['workclass']=data_1['workclass'].replace('?',np.nan)\n",
        "\n",
        "data_1['occupation']=data_1['occupation'].replace('?',np.nan)\n",
        "\n",
        "data_1['native-country']=data_1['native-country'].replace('?',np.nan)"
      ],
      "execution_count": null,
      "outputs": []
    },
    {
      "cell_type": "code",
      "metadata": {
        "colab": {
          "base_uri": "https://localhost:8080/"
        },
        "id": "QhCeOWm2XOyr",
        "outputId": "e6847b00-d72c-4cd7-cf5e-0cc97b6bfd7f"
      },
      "source": [
        "print(data_1['relationship'].value_counts())\r\n",
        "data_1['gender']=data_1['gender'].replace({\"Male\":1,\"Female\":2})"
      ],
      "execution_count": null,
      "outputs": [
        {
          "output_type": "stream",
          "text": [
            "1    19716\n",
            "2    12583\n",
            "3     7581\n",
            "4     5125\n",
            "5     2331\n",
            "6     1506\n",
            "Name: relationship, dtype: int64\n"
          ],
          "name": "stdout"
        }
      ]
    },
    {
      "cell_type": "code",
      "metadata": {
        "colab": {
          "base_uri": "https://localhost:8080/"
        },
        "id": "ZCUynIteTrCj",
        "outputId": "30ac316d-fdfd-4f6a-86b2-0a699f0ee304"
      },
      "source": [
        "#To apply Algorithms with Pre-Processing some Algorithms will not work with the String (columns) we need to convert them\n",
        "\n",
        "#Replace String values with numerical in Workclass column in Method-1\n",
        "\n",
        "data_1['workclass']=data_1['workclass'].replace('Private',1)\n",
        "data_1['workclass']=data_1['workclass'].replace('Self-emp-not-inc',2)\n",
        "data_1['workclass']=data_1['workclass'].replace('Local-gov',3)\n",
        "data_1['workclass']=data_1['workclass'].replace('State-gov',4)\n",
        "data_1['workclass']=data_1['workclass'].replace('Self-emp-inc',5)\n",
        "data_1['workclass']=data_1['workclass'].replace('Federal-gov',6)\n",
        "data_1['workclass']=data_1['workclass'].replace('Without-pay',7)\n",
        "data_1['workclass']=data_1['workclass'].replace('Never-worked',8)\n",
        "print(data_1['workclass'].value_counts())\n",
        "\n",
        "#Replace String values with numerical Education column in Method-1 \n",
        "\n",
        "data_1['education']=data_1['education'].replace(to_replace='HS-grad',value=1)\n",
        "\n",
        "data_1['education']=data_1['education'].replace(to_replace='Some-college',value=2)\n",
        "\n",
        "data_1['education']=data_1['education'].replace(to_replace='Bachelors',value=3)\n",
        "\n",
        "data_1['education']=data_1['education'].replace(to_replace=\"Masters\",value=4)\n",
        "data_1['education']=data_1['education'].replace(to_replace='Assoc-voc',value=5)\n",
        "\n",
        "data_1['education']=data_1['education'].replace(to_replace='11th',value=6)\n",
        "\n",
        "data_1['education']=data_1['education'].replace(to_replace=\"Assoc-acdm\",value=7)\n",
        "\n",
        "data_1['education']=data_1['education'].replace(to_replace=\"10th\",value=8)\n",
        "\n",
        "data_1['education']=data_1['education'].replace(to_replace=\"7th-8th\",value=9)\n",
        "\n",
        "data_1['education']=data_1['education'].replace(to_replace=\"Prof-school\",value=10)\n",
        "data_1['education']=data_1['education'].replace(to_replace=\"9th\",value=11)\n",
        "data_1['education']=data_1['education'].replace(to_replace=\"12th\",value=12)\n",
        "data_1['education']=data_1['education'].replace(to_replace=\"Doctorate\",value=13)\n",
        "\n",
        "data_1['education']=data_1['education'].replace(to_replace=\"5th-6th\",value=14)\n",
        "data_1['education']=data_1['education'].replace(to_replace=\"1st-4th\",value=15)\n",
        "data_1['education']=data_1['education'].replace(to_replace=\"Preschool\",value=16)\n",
        "\n",
        "#Replacing the String values with Method-2\n",
        "\n",
        "data_1['marital-status']=data_1['marital-status'].replace({\"Married-civ-spouse\":1,\"Never-married\":2,\"Divorced\":3,\"Separated\":4,\"Widowed\":5,\"Married-spouse-absent\":6,\"Married-AF-spouse\":7})\n",
        "\n",
        "#Replacing the String value for Occupation Column\n",
        "\n",
        "data_1['occupation']=data_1['occupation'].replace({\"Prof-specialty\":1,\"Craft-repair\":2,\"Exec-managerial\":3,\"Adm-clerical\":4,\"Sales\":5,\"Other-service\":6,\"Machine-op-inspct\":7,\"Transport-moving\":8,\"Handlers-cleaners\":9,\"Farming-fishing\":10,\"Tech-support\":11,\"Protective-serv\":12,\"Priv-house-serv\":13,\"Armed-Forces\":14,\"Exec-ma\":15})\n",
        "\n",
        "#Replacing the String values for Relationship column\n",
        "\n",
        "data_1['relationship']=data_1['relationship'].replace({\"Husband\":1,\"Not-in-family\":2,\"Own-child\":3,\"Unmarried\":4,\"Wife\":5,\"Other-relative\":6})\n",
        "\n",
        "data_1['gender']=data_1['gender'].replace({\"Male\":1,\"Female\":2})\n",
        "\n",
        "#Replacing the String columns with values \n",
        "\n",
        "data_1['race']=data_1['race'].replace({\"White\":1,\"Black\":2,\"Asian-Pac-Islander\":3,\"Amer-Indian-Eskimo\":4,\"Other\":5})\n",
        "\n",
        "\n",
        "#Replacing the Class column income with values \n",
        "\n",
        "data_1['income']=data_1['income'].replace({\"<=50K\":1,\">50K\":2})"
      ],
      "execution_count": null,
      "outputs": [
        {
          "output_type": "stream",
          "text": [
            "1.0    33906\n",
            "2.0     3862\n",
            "3.0     3136\n",
            "4.0     1981\n",
            "5.0     1695\n",
            "6.0     1432\n",
            "7.0       21\n",
            "8.0       10\n",
            "Name: workclass, dtype: int64\n"
          ],
          "name": "stdout"
        }
      ]
    },
    {
      "cell_type": "code",
      "metadata": {
        "colab": {
          "base_uri": "https://localhost:8080/"
        },
        "id": "O33KCfs0YHjD",
        "outputId": "6ff595bc-f4fe-4dae-9f47-777fabccf089"
      },
      "source": [
        "print(data_1['race'].value_counts())\r\n",
        "\r\n",
        "data_1['marital-status']=data_1['marital-status'].replace({\"Married-civ-spouse\":1,\"Never-married\":2,\"Divorced\":3,\"Separated\":4,\"Widowed\":5,\"Married-spouse-absent\":6,\"Married-AF-spouse\":7})\r\n",
        "\r\n",
        "\r\n"
      ],
      "execution_count": null,
      "outputs": [
        {
          "output_type": "stream",
          "text": [
            "1    41762\n",
            "2     4685\n",
            "3     1519\n",
            "4      470\n",
            "5      406\n",
            "Name: race, dtype: int64\n"
          ],
          "name": "stdout"
        }
      ]
    },
    {
      "cell_type": "code",
      "metadata": {
        "id": "tMuHL1dCZ6cH"
      },
      "source": [
        "#Dropping NaN values to run Algorithms \n",
        "data_1=data_1.dropna()"
      ],
      "execution_count": null,
      "outputs": []
    },
    {
      "cell_type": "code",
      "metadata": {
        "colab": {
          "base_uri": "https://localhost:8080/"
        },
        "id": "XDbtZenPaoVW",
        "outputId": "3c0a50f3-788f-4269-cf18-25930fc4aa81"
      },
      "source": [
        "#Decision Tree Algorithm \n",
        "\n",
        "from sklearn.tree import DecisionTreeClassifier \n",
        "from sklearn.model_selection import train_test_split\n",
        "\n",
        "from sklearn import metrics\n",
        "\n",
        "\n",
        "X=data_1.drop(columns=['income','native-country'])\n",
        "\n",
        "y=data_1['income']\n",
        "\n",
        "\n",
        "X_train, X_test,y_train,y_test=train_test_split(X,y,test_size=0.20)\n",
        "\n",
        "clf=DecisionTreeClassifier()\n",
        "\n",
        "clf=clf.fit(X_train,y_train)\n",
        "\n",
        "y_pre=clf=clf.predict(X_test)\n",
        "\n",
        "print(\"Accuracy:\",metrics.accuracy_score(y_test,y_pre))\n",
        "\n",
        "from sklearn.metrics import classification_report, confusion_matrix\n",
        "\n",
        "print(confusion_matrix(y_test,y_pre))\n"
      ],
      "execution_count": null,
      "outputs": [
        {
          "output_type": "stream",
          "text": [
            "Accuracy: 0.807739082365948\n",
            "[[5922  900]\n",
            " [ 839 1384]]\n"
          ],
          "name": "stdout"
        }
      ]
    },
    {
      "cell_type": "code",
      "metadata": {
        "id": "z50s7kOFc7e9"
      },
      "source": [
        "#SVM Algorithm\n",
        "\n",
        "#Taking too time for P\n",
        "from sklearn.svm import SVC\n",
        "\n",
        "clf1=SVC(kernel='linear')\n",
        "\n",
        "clf1.fit(X_train,y_train)\n",
        "\n",
        "y_pred=clf1.predict(X_test)\n",
        "\n",
        "print(\"Accuracy: \",metrics.accuracy_score(y_test,y_pred))\n"
      ],
      "execution_count": null,
      "outputs": []
    },
    {
      "cell_type": "code",
      "metadata": {
        "colab": {
          "base_uri": "https://localhost:8080/"
        },
        "id": "6dkDNLuWhHYj",
        "outputId": "dce541eb-069e-477b-b5af-7f3977eae04f"
      },
      "source": [
        "#Random Forest Algorithm \n",
        "\n",
        "from sklearn.ensemble import RandomForestClassifier\n",
        "\n",
        "ran=RandomForestClassifier(n_estimators=2000)\n",
        "\n",
        "ran.fit(X_train,y_train)\n",
        "\n",
        "y_pre_2=ran.predict(X_test)\n",
        "\n",
        "print(\"Accuracy: \",metrics.accuracy_score(y_test,y_pre_2))\n",
        "\n",
        "print(confusion_matrix(y_test,y_pre_2))"
      ],
      "execution_count": null,
      "outputs": [
        {
          "output_type": "stream",
          "text": [
            "Accuracy:  0.8545052515201769\n",
            "[[6336  523]\n",
            " [ 793 1393]]\n"
          ],
          "name": "stdout"
        }
      ]
    },
    {
      "cell_type": "code",
      "metadata": {
        "colab": {
          "base_uri": "https://localhost:8080/"
        },
        "id": "HCeB_Uvnj8wF",
        "outputId": "2fde939c-3ae8-4b2b-dfd0-0ceccc29f94c"
      },
      "source": [
        "#Naive Bayes Algorithm\n",
        "\n",
        "from sklearn.naive_bayes import GaussianNB\n",
        "\n",
        "model=GaussianNB()\n",
        "\n",
        "model.fit(X_train,y_train)\n",
        "\n",
        "y_pre_3=model.predict(X_test)\n",
        "\n",
        "print(\"Accuracy : \",metrics.accuracy_score(y_test,y_pre_3))\n",
        "\n",
        "print(confusion_matrix(y_test,y_pre_3))"
      ],
      "execution_count": null,
      "outputs": [
        {
          "output_type": "stream",
          "text": [
            "Accuracy :  0.7878385848535102\n",
            "[[6497  362]\n",
            " [1557  629]]\n"
          ],
          "name": "stdout"
        }
      ]
    },
    {
      "cell_type": "code",
      "metadata": {
        "id": "XdA-ubFajl1T",
        "colab": {
          "base_uri": "https://localhost:8080/"
        },
        "outputId": "f4abc264-c7eb-4b66-c8e1-21f2e530e793"
      },
      "source": [
        "#XG Boost Algorithm \n",
        "\n",
        "import xgboost as xgb\n",
        "from sklearn.metrics import mean_squared_error\n",
        "from sklearn import metrics\n",
        "from sklearn.metrics import classification_report, confusion_matrix\n",
        "from sklearn.model_selection import train_test_split\n",
        "X=data_1.drop(columns=['income','native-country'])\n",
        "\n",
        "y=data_1['income']\n",
        "\n",
        "X_train, X_test,y_train,y_test=train_test_split(X,y,test_size=0.20)\n",
        "\n",
        "xgb_reg=xgb.XGBRegressor(n_estimators=2000)\n",
        "\n",
        "xgb_reg.fit(X_train,y_train)\n",
        "\n",
        "y_pre_xgb_1=xgb_reg.predict(X_test)\n",
        "\n",
        "print(\"XG Boost\")\n",
        "\n",
        "import numpy as np\n",
        "\n",
        "rmse=np.sqrt(mean_squared_error(y_test,y_pre_xgb_1))\n",
        "\n",
        "print(\"RMSE :%f\"%(rmse))"
      ],
      "execution_count": null,
      "outputs": [
        {
          "output_type": "stream",
          "text": [
            "[13:16:43] WARNING: /workspace/src/objective/regression_obj.cu:152: reg:linear is now deprecated in favor of reg:squarederror.\n",
            "XG Boost\n",
            "RMSE :0.299799\n"
          ],
          "name": "stdout"
        }
      ]
    },
    {
      "cell_type": "code",
      "metadata": {
        "colab": {
          "base_uri": "https://localhost:8080/"
        },
        "id": "p7WtxsYRCDRz",
        "outputId": "f29e14a5-3c8a-43fc-f4e5-3cc82c0d2e8b"
      },
      "source": [
        "#KNN Algorithm \r\n",
        "from sklearn.neighbors import KNeighborsClassifier\r\n",
        "from sklearn.model_selection import train_test_split\r\n",
        "\r\n",
        "from sklearn.metrics import mean_squared_error\r\n",
        "from sklearn import metrics\r\n",
        "\r\n",
        "X=data_1.drop(columns=['native-country','income'])\r\n",
        "y=data_1['income']\r\n",
        "X_train, X_test,y_train,y_test=train_test_split(X,y,test_size=0.20)\r\n",
        "classifier=KNeighborsClassifier(n_neighbors=2000)\r\n",
        "classifier.fit(X_train,y_train)\r\n",
        "y_pre_5=classifier.predict(X_test)\r\n",
        "\r\n",
        "from sklearn.metrics import classification_report, confusion_matrix\r\n",
        "print(\"KNN Algorithm\")\r\n",
        "print(\"Accuracy :\",classification_report(y_test,y_pre_5))\r\n",
        "print(\"Accuracy in Percent  :\",metrics.accuracy_score(y_test,y_pre_5))\r\n",
        "\r\n",
        "print(\"Confusion Matrix:\",confusion_matrix(y_test,y_pre_5))"
      ],
      "execution_count": null,
      "outputs": [
        {
          "output_type": "stream",
          "text": [
            "KNN Algorithm\n",
            "Accuracy :               precision    recall  f1-score   support\n",
            "\n",
            "           1       0.75      1.00      0.86      6785\n",
            "           2       1.00      0.00      0.01      2260\n",
            "\n",
            "    accuracy                           0.75      9045\n",
            "   macro avg       0.88      0.50      0.43      9045\n",
            "weighted avg       0.81      0.75      0.65      9045\n",
            "\n",
            "Accuracy in Percent  : 0.7512437810945274\n",
            "Confusion Matrix: [[6785    0]\n",
            " [2250   10]]\n"
          ],
          "name": "stdout"
        }
      ]
    },
    {
      "cell_type": "code",
      "metadata": {
        "colab": {
          "base_uri": "https://localhost:8080/"
        },
        "id": "2FdpGoaV3c01",
        "outputId": "4a9ece4f-aa07-42ae-fcf1-8d52ad29a702"
      },
      "source": [
        "#AdaBoost Algorithm \r\n",
        "from sklearn.ensemble import AdaBoostClassifier\r\n",
        "from sklearn.ensemble import RandomForestClassifier\r\n",
        "\r\n",
        "from sklearn.model_selection import train_test_split\r\n",
        "from sklearn import metrics\r\n",
        "from sklearn.metrics import classification_report, confusion_matrix\r\n",
        "\r\n",
        "#data_1=data_1.dropna()\r\n",
        "\r\n",
        "x=data_1.drop(columns=['income','native-country'])\r\n",
        "y=data_1['income']\r\n",
        "\r\n",
        "X_train,X_test,y_train,y_test=train_test_split(x,y,test_size=0.20)\r\n",
        "\r\n",
        "clf_random=RandomForestClassifier(n_estimators=20)\r\n",
        "clf_random.fit(X_train,y_train)\r\n",
        "\r\n",
        "y_clf_random=clf_random.predict(X_test)\r\n",
        "\r\n",
        "abc=AdaBoostClassifier(n_estimators=20,base_estimator=clf_random)\r\n",
        "\r\n",
        "model=abc.fit(X_train,y_train)\r\n",
        "\r\n",
        "y_pre=model.predict(X_test)\r\n",
        "\r\n",
        "print(\"Accuracy :\",metrics.accuracy_score(y_test,y_pre))\r\n",
        "print(\"Confusion Matrix:\",confusion_matrix(y_test,y_pre))"
      ],
      "execution_count": null,
      "outputs": [
        {
          "output_type": "stream",
          "text": [
            "Accuracy : 0.8422332780541736\n",
            "Confusion Matrix: [[6259  568]\n",
            " [ 859 1359]]\n"
          ],
          "name": "stdout"
        }
      ]
    },
    {
      "cell_type": "code",
      "metadata": {
        "id": "TGlbPgSuXIJQ"
      },
      "source": [
        "#Applying Decision Tree Algorithm\n",
        "#Bagging \n",
        "from sklearn.tree import DecisionTreeClassifier\n",
        "from sklearn.ensemble import BaggingClassifier\n",
        "from sklearn import metrics\n",
        "import numpy as np\n",
        "from sklearn.metrics import roc_auc_score\n",
        "from sklearn.metrics import average_precision_score\n",
        "from sklearn.metrics import classification_report, confusion_matrix\n",
        "def func1(X_train,X_test,y_train,y_test):\n",
        "               clf=DecisionTreeClassifier()\n",
        "               clf=clf.fit(X_train,y_train)\n",
        "               y_pre_1=clf.predict(X_test)\n",
        "               print(\"Decision Tree Algorithm\")\n",
        "               print(\"Accuracy : \",metrics.accuracy_score(y_test,y_pre_1))\n",
        "               print('Confusion Matrix : ',confusion_matrix(y_test,y_pre_1))\n",
        "               print(\"ROC And AUC :\",roc_auc_score(y_test,y_pre_1))\n",
        "               print('Precision Score :',average_precision_score(y_test,y_pre_1))\n",
        "               print(\"Bagging\")\n",
        "               bag_clf=BaggingClassifier(base_estimator=clf,n_estimators=1000)\n",
        "               bag_clf.fit(X_train,y_train)\n",
        "               y_pre_bag_1=bag_clf.predict(X_test)\n",
        "               print(\"Accuracy :\",metrics.accuracy_score(y_test,y_pre_bag_1))\n",
        "               print(\"Confusion Matrix :\",confusion_matrix(y_test,y_pre_1))\n",
        "               print(\"ROC And AUC :\",roc_auc_score(y_test,y_pre_bag_1))\n",
        "               print(\"Precision :\",average_precision_score(y_test,y_pre_bag_1))"
      ],
      "execution_count": null,
      "outputs": []
    },
    {
      "cell_type": "code",
      "metadata": {
        "id": "4VkbFHHncv_n"
      },
      "source": [
        "#Applying RandomForest Algorithm \n",
        "\n",
        "from sklearn.ensemble import RandomForestClassifier\n",
        "from sklearn import metrics\n",
        "from sklearn.metrics import classification_report, confusion_matrix\n",
        "import numpy as np\n",
        "from sklearn.metrics import average_precision_score\n",
        "from sklearn.metrics import roc_auc_score\n",
        "def func2(X_train,X_test,y_train,y_test):\n",
        "           clf=RandomForestClassifier(n_estimators=2000)\n",
        "           clf.fit(X_train,y_train)\n",
        "           y_pre_2=clf.predict(X_test)\n",
        "           print(\"RandomForest Algorithm\")\n",
        "           print(\"Accuracy : \",metrics.accuracy_score(y_test,y_pre_2))\n",
        "           print(\"Confusion Matrix :\",confusion_matrix(y_test,y_pre_2))\n",
        "           print(\"ROC And AUC :\",roc_auc_score(y_test,y_pre_2))\n",
        "           print(\"Precision Score :\",average_precision_score(y_test,y_pre_2))"
      ],
      "execution_count": null,
      "outputs": []
    },
    {
      "cell_type": "code",
      "metadata": {
        "id": "kyQz53JJelQ3"
      },
      "source": [
        "#Applying Naive Bayes Algorithm\n",
        "\n",
        "from sklearn.naive_bayes import GaussianNB\n",
        "from sklearn import metrics\n",
        "from sklearn.metrics import classification_report, confusion_matrix\n",
        "import numpy as np\n",
        "from sklearn.metrics import average_precision_score\n",
        "from sklearn.metrics import roc_auc_score\n",
        "def func3(X_train,X_test,y_train,y_test):\n",
        "                        model=GaussianNB()\n",
        "                        model.fit(X_train,y_train)\n",
        "                        y_pre_3=model.predict(X_test)\n",
        "                        print(\"Naive Bayes Algorithm\")\n",
        "                        print(\"Accuracy :\",metrics.accuracy_score(y_test,y_pre_3))\n",
        "                        print(\"Confusion Matrix \",confusion_matrix(y_test,y_pre_3))    \n",
        "                        print(\"ROC And AUC :\",roc_auc_score(y_test,y_pre_3)) \n",
        "                        print(\"Precision :\",average_precision_score(y_test,y_pre_3))                 "
      ],
      "execution_count": null,
      "outputs": []
    },
    {
      "cell_type": "code",
      "metadata": {
        "id": "V55ULjoeiABe"
      },
      "source": [
        "#Applying Logistic Regression \n",
        "\n",
        "from sklearn.linear_model import LogisticRegression\n",
        "from sklearn import metrics\n",
        "from sklearn.metrics import classification_report, confusion_matrix\n",
        "import numpy as np\n",
        "from sklearn.metrics import roc_auc_score\n",
        "from sklearn.metrics import average_precision_score\n",
        "def func4(X_train,X_test,y_train,y_test):\n",
        "       log_reg=LogisticRegression()\n",
        "       log_reg.fit(X_train,y_train)\n",
        "       y_pre_4=log_reg.predict(X_test)\n",
        "       print(\"Logisitic Regression\")\n",
        "       print(\"Accuracy : \",metrics.accuracy_score(y_test,y_pre_4))\n",
        "       print(\"Confusion Matrix : \",confusion_matrix(y_test,y_pre_4))\n",
        "       print(\"ROC And AUC :\",roc_auc_score(y_test,y_pre_4)) \n",
        "       print(\"Precision :\",average_precision_score(y_test,y_pre_4))"
      ],
      "execution_count": null,
      "outputs": []
    },
    {
      "cell_type": "code",
      "metadata": {
        "id": "IH4fCHjtnxs6"
      },
      "source": [
        "#Gradient Boosting Algorithm\n",
        "\n",
        "from sklearn.ensemble import GradientBoostingClassifier\n",
        "from sklearn import metrics\n",
        "from sklearn.metrics import classification_report, confusion_matrix\n",
        "import numpy as np\n",
        "from sklearn.metrics import average_precision_score\n",
        "from sklearn.metrics import roc_auc_score\n",
        "def func5(X_train,X_test,y_train,y_test):\n",
        "              gb_clf=GradientBoostingClassifier(n_estimators=1000)\n",
        "              gb_clf.fit(X_train,y_train)\n",
        "              y_pre_gb_1=gb_clf.predict(X_test)\n",
        "              print(\"Gradient Boosting Algorithm\")\n",
        "              print(\"Accuracy :\",metrics.accuracy_score(y_test,y_pre_gb_1))\n",
        "              print(\"Confusion Matrix :\",confusion_matrix(y_test,y_pre_gb_1))\n",
        "              print(\"ROC And AUC :\",roc_auc_score(y_test,y_pre_gb_1))\n",
        "              print(\"Precision :\",average_precision_score(y_test,y_pre_gb_1))\n",
        "              \n"
      ],
      "execution_count": null,
      "outputs": []
    },
    {
      "cell_type": "code",
      "metadata": {
        "id": "3V0JyDhBqsYz"
      },
      "source": [
        "#XG Boost Algorithm \n",
        "\n",
        "import xgboost as xgb\n",
        "from sklearn.metrics import mean_squared_error\n",
        "from sklearn import metrics\n",
        "from sklearn.metrics import classification_report, confusion_matrix\n",
        "import numpy as np\n",
        "from sklearn.metrics import roc_auc_score\n",
        "\n",
        "def func6(X_train,X_test,y_train,y_test):\n",
        "        xgb_reg=xgb.XGBRegressor()\n",
        "        xgb_reg.fit(X_train,y_train)\n",
        "        y_pre_xgb_1=xgb_reg.predict(X_test)\n",
        "        print(\"XG Boost\")\n",
        "        import numpy as np\n",
        "\n",
        "        rmse=np.sqrt(mean_squared_error(y_test,y_pre_xgb_1))\n",
        "\n",
        "        print(\"RMSE :%f\"%(rmse))"
      ],
      "execution_count": null,
      "outputs": []
    },
    {
      "cell_type": "code",
      "metadata": {
        "id": "FLw_m5sU8DqJ"
      },
      "source": [
        "\r\n",
        "#AdaBoost Algorithm \r\n",
        "from sklearn.ensemble import AdaBoostClassifier\r\n",
        "from sklearn.ensemble import RandomForestClassifier\r\n",
        "from sklearn.metrics import classification_report, confusion_matrix\r\n",
        "from sklearn.model_selection import train_test_split\r\n",
        "from sklearn import metrics\r\n",
        "import numpy as np\r\n",
        "from sklearn.metrics import roc_auc_score\r\n",
        "from sklearn.metrics import average_precision_score\r\n",
        "def func7(X_train,X_test,y_train,y_test):\r\n",
        "            print(\"Ada Boost using Random Forest\")\r\n",
        "            clf_random=RandomForestClassifier(n_estimators=20)\r\n",
        "            clf_random.fit(X_train,y_train)\r\n",
        "            y_clf_random=clf_random.predict(X_test)\r\n",
        "            abc=AdaBoostClassifier(n_estimators=20,base_estimator=clf_random)\r\n",
        "            model=abc.fit(X_train,y_train)\r\n",
        "            y_pre=model.predict(X_test)\r\n",
        "            print(\"Accuracy :\",metrics.accuracy_score(y_test,y_pre))\r\n",
        "            print(\"Confusion Matrix :\",confusion_matrix(y_test,y_pre))\r\n",
        "            print(\"ROC And AUC :\",roc_auc_score(y_test,y_pre))\r\n",
        "            print(\"Precision :\",average_precision_score(y_test,y_pre))"
      ],
      "execution_count": null,
      "outputs": []
    },
    {
      "cell_type": "code",
      "metadata": {
        "colab": {
          "base_uri": "https://localhost:8080/"
        },
        "id": "Gi5xGS3rZgLr",
        "outputId": "60dbb4b4-354e-4857-c7b6-bf35ef93987f"
      },
      "source": [
        "from numpy import cov\r\n",
        "cov(data_1['age'],data_1['income'])\r\n",
        "cov(data_1['education'],data_1['income'])"
      ],
      "execution_count": null,
      "outputs": [
        {
          "output_type": "execute_result",
          "data": {
            "text/plain": [
              "array([[9.98721738, 0.05859936],\n",
              "       [0.05859936, 0.18642146]])"
            ]
          },
          "metadata": {
            "tags": []
          },
          "execution_count": 47
        }
      ]
    },
    {
      "cell_type": "markdown",
      "metadata": {
        "id": "xOaCarmuk1X7"
      },
      "source": [
        "With Out doing Pre-Processing Techniques we have applied 3 Algorithms Decision Tree Algorithm, Random Forest, Naive Bayes"
      ]
    },
    {
      "cell_type": "code",
      "metadata": {
        "id": "N3OdrMcMmNAo",
        "colab": {
          "base_uri": "https://localhost:8080/"
        },
        "outputId": "3968a830-50d6-423d-937d-80fb426fd03c"
      },
      "source": [
        "#Pre-Processing Technique-1\n",
        "\n",
        "#To Know about the Missing Values \n",
        "\n",
        "#print(data_1.isna().sum())\n",
        "import numpy as np\n",
        "\n",
        "#They are three columns with Missing Values they are 'WorkClass','Occupation','Native-Country'\n",
        "\n",
        "\n",
        "import seaborn as sns\n",
        "\n",
        "#sns.boxplot(x=data_1['age'])\n",
        "\n",
        "\n",
        "data_1['fnlwgt'].head()\n",
        "\n",
        "data_1=pd.get_dummies(columns=['gender'],data=data_1)\n",
        "\n",
        "import seaborn as sns\n",
        "\n",
        "#print(sns.boxplot(data_1['capital-gain']))\n",
        "\n",
        "#print(sns.boxplot(data_1['capital-loss']))\n",
        "\n",
        "#Applying normaliztion for Captial-gain column and Capital-loss column\n",
        "\n",
        "from scipy import stats\n",
        "\n",
        "data_1['capital-gain']=np.abs(stats.zscore(data_1['capital-gain']))\n",
        "\n",
        "\n",
        "data_1['capital-loss']=np.abs(stats.zscore(data_1['capital-loss']))\n",
        "\n",
        "\n",
        "#Training and Testing \n",
        "\n",
        "from sklearn.model_selection import train_test_split\n",
        "\n",
        "\n",
        "X=data_1.drop(columns=['income','native-country'])\n",
        "\n",
        "y=data_1['income']\n",
        "\n",
        "X_train, X_test,y_train,y_test=train_test_split(X,y,test_size=0.20)\n",
        "\n",
        "#Filling Missing values with Imputer Missing Values Technique-1\n",
        "\n",
        "from sklearn.impute import SimpleImputer\n",
        "\n",
        "my_imputer=SimpleImputer()\n",
        "\n",
        "imputer_X_train=my_imputer.fit_transform(X_train)\n",
        "\n",
        "imputer_X_test=my_imputer.transform(X_test)\n",
        "\n",
        "func1(imputer_X_train,imputer_X_test,y_train,y_test)\n",
        "\n",
        "func2(imputer_X_train,imputer_X_test,y_train,y_test)\n",
        "\n",
        "func4(imputer_X_train,imputer_X_test,y_train,y_test)\n",
        "\n",
        "func5(imputer_X_train,imputer_X_test,y_train,y_test)\n",
        "\n",
        "func6(imputer_X_train,imputer_X_test,y_train,y_test)\n",
        "\n",
        "func7(imputer_X_train,imputer_X_test,y_train,y_test)"
      ],
      "execution_count": null,
      "outputs": [
        {
          "output_type": "stream",
          "text": [
            "Decision Tree Algorithm\n",
            "Accuracy :  0.812672740300952\n",
            "Confusion Matrix :  [[6479  963]\n",
            " [ 867 1460]]\n",
            "ROC And AUC : 0.7490082883625347\n",
            "Precision Score : 0.7146495585457081\n",
            "Bagging\n",
            "Accuracy : 0.8568942573446617\n",
            "Confusion Matrix : [[6479  963]\n",
            " [ 867 1460]]\n",
            "ROC And AUC : 0.7815771287066623\n",
            "Precision : 0.7252843642463894\n",
            "RandomForest Algorithm\n",
            "Accuracy :  0.8566895280990889\n",
            "Confusion Matrix : [[6902  540]\n",
            " [ 860 1467]]\n",
            "ROC And AUC : 0.7789321505013358\n",
            "Precision Score : 0.7260438030128282\n",
            "Logisitic Regression\n",
            "Accuracy :  0.7617975227761286\n",
            "Confusion Matrix :  [[7442    0]\n",
            " [2327    0]]\n",
            "ROC And AUC : 0.5\n",
            "Precision : 0.7617975227761286\n",
            "Gradient Boosting Algorithm\n",
            "Accuracy : 0.8741938785955574\n",
            "Confusion Matrix : [[7000  442]\n",
            " [ 787 1540]]\n",
            "ROC And AUC : 0.8012018339331686\n",
            "Precision : 0.7297973369432665\n",
            "[05:13:42] WARNING: /workspace/src/objective/regression_obj.cu:152: reg:linear is now deprecated in favor of reg:squarederror.\n",
            "XG Boost\n",
            "RMSE :0.306264\n",
            "Ada Boost using Random Forest\n",
            "Accuracy : 0.8490121813901116\n",
            "Confusion Matrix : [[6849  593]\n",
            " [ 882 1445]]\n",
            "ROC And AUC : 0.770644163308702\n",
            "Precision : 0.724280752102169\n"
          ],
          "name": "stdout"
        }
      ]
    },
    {
      "cell_type": "code",
      "metadata": {
        "colab": {
          "base_uri": "https://localhost:8080/"
        },
        "id": "0laiyb47ytLw",
        "outputId": "0f01d6c6-be86-4848-ca1f-c7135c569772"
      },
      "source": [
        "#Pre-Processing Technique-2\n",
        "\n",
        "\n",
        "#To Fill Missing Values using ffill Technique-2 \n",
        "data_1['workclass']=data_1['workclass'].fillna(method='ffill')\n",
        "\n",
        "data_1['occupation']=data_1['occupation'].fillna(method='ffill')\n",
        "\n",
        "data_1['native-country']=data_1['native-country'].fillna(method='ffill')\n",
        "\n",
        "\n",
        "#Doing One-hot encoding for Race and Gender Column \n",
        "\n",
        "data_1=pd.get_dummies(columns=['gender','race'],data=data_1)\n",
        "\n",
        "#Applying Normalization for for Fnlwgt beacuse they are more 20,000 outliers in the Data Set \n",
        "\n",
        "#Normalization is done using Z-Score Normalization\n",
        "\n",
        "from scipy import stats\n",
        "\n",
        "data_1['fnlwgt']=np.abs(stats.zscore(data_1['fnlwgt']))\n",
        "\n",
        "data_1['fnlwgt'].head()\n",
        "\n",
        "import seaborn as sns\n",
        "\n",
        "#sns.boxplot(data_1['fnlwgt'])\n",
        "\n",
        "\n",
        "#Dropping the Outliers in the fnlwgt Column after applying the Z-Score Normalization\n",
        "\n",
        "data_1.drop(data_1[data_1['fnlwgt']>=3].index,inplace=True)\n",
        "\n",
        "from sklearn.model_selection import train_test_split\n",
        "\n",
        "x=data_1.drop(columns=['income','native-country'])\n",
        "\n",
        "y=data_1['income']\n",
        "\n",
        "X_train,X_test,y_train,y_test=train_test_split(x,y,test_size=0.30)\n",
        "\n",
        "func1(X_train,X_test,y_train,y_test)\n",
        "\n",
        "func2(X_train,X_test,y_train,y_test)\n",
        "\n",
        "#func3(X_train,X_test,y_train,y_test)\n",
        "\n",
        "func4(X_train,X_test,y_train,y_test)\n",
        "\n",
        "func5(X_train,X_test,y_train,y_test)\n",
        "\n",
        "func7(X_train,X_test,y_train,y_test)"
      ],
      "execution_count": null,
      "outputs": [
        {
          "output_type": "stream",
          "text": [
            "Decision Tree Algorithm\n",
            "Accuracy :  0.811461278532515\n",
            "Confusion Matrix :  [[9611 1383]\n",
            " [1351 2156]]\n",
            "ROC And AUC : 0.7444872852076455\n",
            "Precision Score : 0.7119414459239697\n",
            "Bagging\n",
            "Accuracy : 0.855320322736363\n",
            "Confusion Matrix : [[9611 1383]\n",
            " [1351 2156]]\n",
            "ROC And AUC : 0.7792377121066476\n",
            "Precision : 0.7220986330653589\n",
            "RandomForest Algorithm\n",
            "Accuracy :  0.8537342252258465\n",
            "Confusion Matrix : [[10209   785]\n",
            " [ 1336  2171]]\n",
            "ROC And AUC : 0.7738225179102022\n",
            "Precision Score : 0.7229821944670048\n"
          ],
          "name": "stdout"
        },
        {
          "output_type": "stream",
          "text": [
            "/usr/local/lib/python3.6/dist-packages/sklearn/linear_model/_logistic.py:940: ConvergenceWarning: lbfgs failed to converge (status=1):\n",
            "STOP: TOTAL NO. of ITERATIONS REACHED LIMIT.\n",
            "\n",
            "Increase the number of iterations (max_iter) or scale the data as shown in:\n",
            "    https://scikit-learn.org/stable/modules/preprocessing.html\n",
            "Please also refer to the documentation for alternative solver options:\n",
            "    https://scikit-learn.org/stable/modules/linear_model.html#logistic-regression\n",
            "  extra_warning_msg=_LOGISTIC_SOLVER_CONVERGENCE_MSG)\n"
          ],
          "name": "stderr"
        },
        {
          "output_type": "stream",
          "text": [
            "Logisitic Regression\n",
            "Accuracy :  0.8281497827736019\n",
            "Confusion Matrix :  [[10295   699]\n",
            " [ 1793  1714]]\n",
            "ROC And AUC : 0.7125783387356113\n",
            "Precision : 0.7283689881696938\n",
            "Gradient Boosting Algorithm\n",
            "Accuracy : 0.8720777877387766\n",
            "Confusion Matrix : [[10357   637]\n",
            " [ 1218  2289]]\n",
            "ROC And AUC : 0.7973769579269695\n",
            "Precision : 0.7268404884065283\n",
            "Ada Boost using Random Forest\n",
            "Accuracy : 0.8458726984345907\n",
            "Confusion Matrix : [[10150   844]\n",
            " [ 1391  2116]]\n",
            "ROC And AUC : 0.7632977761828665\n",
            "Precision : 0.7218413085161939\n"
          ],
          "name": "stdout"
        }
      ]
    },
    {
      "cell_type": "code",
      "metadata": {
        "id": "lQJPwIDxz7r6",
        "colab": {
          "base_uri": "https://localhost:8080/"
        },
        "outputId": "b7205da3-912c-4049-a877-b0354e38d527"
      },
      "source": [
        "#Pre-Processing Technique-3\n",
        "\n",
        "#Creating an Outlier in Age column using random sample by filling it with Negative values \n",
        "\n",
        "import random\n",
        "\n",
        "a=random.sample(range(0,48842),200)\n",
        "\n",
        "for i in a:\n",
        "       b=random.sample(range(-20,1),1)\n",
        "       data_1.iloc[i,0]=b\n",
        "\n",
        "\n",
        "#To Fill Missing Values using bfill Technique-3\n",
        "\n",
        "data_1['workclass']=data_1['workclass'].fillna(method='bfill')\n",
        "\n",
        "data_1['occupation']=data_1['occupation'].fillna(method='bfill')\n",
        "\n",
        "data_1['native-country']=data_1['native-country'].fillna(method='bfill')\n",
        "\n",
        "#Apply One-Hot Encoding for Native-Country \n",
        "\n",
        "data_1=pd.get_dummies(columns=['native-country'],data=data_1)\n",
        "\n",
        "#Apply Normalization for fnlwgt, Capital-gain, Capital-loss Columns \n",
        "\n",
        "from scipy import stats\n",
        "\n",
        "data_1['fnlwgt']=np.abs(stats.zscore(data_1['fnlwgt']))\n",
        "\n",
        "data_1['capital-gain']=np.abs(stats.zscore(data_1['capital-gain']))\n",
        "\n",
        "data_1['capital-loss']=np.abs(stats.zscore(data_1['capital-loss']))\n",
        "\n",
        "import seaborn as sns\n",
        "\n",
        "#sns.boxplot(data_1['fnlwgt'])\n",
        "#sns.boxplot(data_1['capital-gain'])\n",
        "#sns.boxplot(data_1['capital-loss'])\n",
        "\n",
        "#Applying Log Transformation for Age Column for removing outliers\n",
        "\n",
        "data_1['age']=data_1['age'].map(lambda i:np.log(i) if i>0 else 0)\n",
        "\n",
        "#Applying Algorithms for the Data Set \n",
        "\n",
        "#Spliting the Data into Training and Testing \n",
        "\n",
        "from sklearn.model_selection import train_test_split\n",
        "\n",
        "x=data_1.drop(columns='income')\n",
        "\n",
        "y=data_1['income']\n",
        "\n",
        "X_train,X_test,y_train,y_test=train_test_split(x,y,test_size=0.30)\n",
        "\n",
        "#func3(X_train,X_test,y_train,y_test)\n",
        "\n",
        "func4(X_train,X_test,y_train,y_test)\n",
        "\n",
        "func5(X_train,X_test,y_train,y_test)\n",
        "\n",
        "func7(X_train,X_test,y_train,y_test)"
      ],
      "execution_count": null,
      "outputs": [
        {
          "output_type": "stream",
          "text": [
            "/usr/local/lib/python3.6/dist-packages/sklearn/linear_model/_logistic.py:940: ConvergenceWarning: lbfgs failed to converge (status=1):\n",
            "STOP: TOTAL NO. of ITERATIONS REACHED LIMIT.\n",
            "\n",
            "Increase the number of iterations (max_iter) or scale the data as shown in:\n",
            "    https://scikit-learn.org/stable/modules/preprocessing.html\n",
            "Please also refer to the documentation for alternative solver options:\n",
            "    https://scikit-learn.org/stable/modules/linear_model.html#logistic-regression\n",
            "  extra_warning_msg=_LOGISTIC_SOLVER_CONVERGENCE_MSG)\n"
          ],
          "name": "stderr"
        },
        {
          "output_type": "stream",
          "text": [
            "Logisitic Regression\n",
            "Accuracy :  0.8420801201119225\n",
            "Confusion Matrix :  [[10633   582]\n",
            " [ 1732  1706]]\n",
            "ROC And AUC : 0.7221619740245458\n",
            "Precision : 0.7388539586145694\n",
            "Gradient Boosting Algorithm\n",
            "Accuracy : 0.874018972224118\n",
            "Confusion Matrix : [[10548   667]\n",
            " [ 1179  2259]]\n",
            "ROC And AUC : 0.798797071984277\n",
            "Precision : 0.7334100416832307\n",
            "Ada Boost using Random Forest\n",
            "Accuracy : 0.8527946495598171\n",
            "Confusion Matrix : [[10389   826]\n",
            " [ 1331  2107]]\n",
            "ROC And AUC : 0.7696024760115953\n",
            "Precision : 0.729743480037635\n"
          ],
          "name": "stdout"
        }
      ]
    },
    {
      "cell_type": "code",
      "metadata": {
        "colab": {
          "base_uri": "https://localhost:8080/"
        },
        "id": "7M0SpfuT17mK",
        "outputId": "39b6ce2d-c0d7-4572-d424-ff43061bd8dc"
      },
      "source": [
        "#Pre-Processing Technique-4\n",
        "\n",
        "#To Fill Missing values with Interpolate Technique-4\n",
        "\n",
        "data_1=data_1.interpolate(method=\"linear\",limit_direction='forward')\n",
        "\n",
        "#Here in the above interpolate it can't fill the missing values in String columns since native-country is string column it will not do it\n",
        "#In that case we are dropping the natvie-country missing value \n",
        "\n",
        "data_1=data_1.drop(columns='native-country')\n",
        "\n",
        "#In this DataSet Age columns is more impacting on the Class label income columns so we are converting them into the values of One and Two for better prediction \n",
        "\n",
        "import numpy as np\n",
        "\n",
        "data_1['age']=np.where((data_1.age>=33.5),1,data_1.age)\n",
        "\n",
        "data_1['age']=np.where((data_1.age!=1),2,data_1.age)\n",
        "\n",
        "#We are applying the One Hot Encoding for the Data Set \n",
        "\n",
        "data_1=pd.get_dummies(columns=['age'],data=data_1)\n",
        "\n",
        "#Here we are going to remove columns capital-loss and capital-gain columns which are not impacting on the Class label and more over they are have more outliers \n",
        "\n",
        "data_1=data_1.drop(columns=['capital-gain','capital-loss'])\n",
        "\n",
        "#Applying One Hot Encoding for Marital Status \n",
        "\n",
        "data_1=pd.get_dummies(columns=['marital-status'],data=data_1)\n",
        "\n",
        "#Splitting the Data into Training and Testing \n",
        "\n",
        "from sklearn.model_selection import train_test_split\n",
        "\n",
        "x=data_1.drop(columns=['income'])\n",
        "\n",
        "y=data_1['income']\n",
        "\n",
        "X_train,X_test,y_train,y_test=train_test_split(x,y,test_size=0.20)\n",
        "\n",
        "func1(X_train,X_test,y_train,y_test)\n",
        "\n",
        "func2(X_train,X_test,y_train,y_test)\n",
        "\n",
        "#func3(X_train,X_test,y_train,y_test)\n",
        "\n",
        "func4(X_train,X_test,y_train,y_test)\n",
        "\n",
        "func5(X_train,X_test,y_train,y_test)\n",
        "\n",
        "func7(X_train,X_test,y_train,y_test)\n"
      ],
      "execution_count": null,
      "outputs": [
        {
          "output_type": "stream",
          "text": [
            "Decision Tree Algorithm\n",
            "Accuracy :  0.7849319275258471\n",
            "Confusion Matrix :  [[6399 1088]\n",
            " [1013 1269]]\n",
            "ROC And AUC : 0.7053862979793079\n",
            "Precision Score : 0.7221108074411313\n",
            "Bagging\n",
            "Accuracy : 0.8198382638959976\n",
            "Confusion Matrix : [[6399 1088]\n",
            " [1013 1269]]\n",
            "ROC And AUC : 0.729225369547941\n",
            "Precision : 0.7266267943026237\n",
            "RandomForest Algorithm\n",
            "Accuracy :  0.8187122530453476\n",
            "Confusion Matrix : [[6736  751]\n",
            " [1020 1262]]\n",
            "ROC And AUC : 0.7263582321539631\n",
            "Precision Score : 0.7269502086557875\n",
            "Logisitic Regression\n",
            "Accuracy :  0.766403930801515\n",
            "Confusion Matrix :  [[7487    0]\n",
            " [2282    0]]\n",
            "ROC And AUC : 0.5\n",
            "Precision : 0.766403930801515\n",
            "Gradient Boosting Algorithm\n",
            "Accuracy : 0.8448152318558706\n",
            "Confusion Matrix : [[6911  576]\n",
            " [ 940 1342]]\n",
            "ROC And AUC : 0.7555736399417184\n",
            "Precision : 0.7305459801609172\n",
            "Ada Boost using Random Forest\n",
            "Accuracy : 0.8123656464325929\n",
            "Confusion Matrix : [[6681  806]\n",
            " [1027 1255]]\n",
            "ROC And AUC : 0.7211514565650282\n",
            "Precision : 0.7259982545020539\n"
          ],
          "name": "stdout"
        }
      ]
    },
    {
      "cell_type": "code",
      "metadata": {
        "colab": {
          "base_uri": "https://localhost:8080/"
        },
        "id": "qu7J6tqA4nvU",
        "outputId": "f29afd4b-e4f4-4c2e-e51a-1c87fb48fb5a"
      },
      "source": [
        "#Pre-Processing Technique-5\n",
        "\n",
        "#data_1=data_1.drop(columns=[\"native-country\"])\n",
        "\n",
        "#Applying One Hot Encoding on Education\n",
        "\n",
        "#data_1=pd.get_dummies(columns=['education'],data=data_1)\n",
        " \n",
        "#Filling the Missing values with Technique-5\n",
        "\n",
        "import numpy as np\n",
        "\n",
        "from sklearn.experimental import enable_iterative_imputer\n",
        "\n",
        "from sklearn.impute import IterativeImputer\n",
        "\n",
        "imp=IterativeImputer()\n",
        "\n",
        "imp.fit(data_1)\n",
        "\n",
        "data_1=imp.transform(data_1)\n",
        "\n",
        "from sklearn.model_selection import train_test_split\n",
        "\n",
        "data_1=pd.DataFrame(data=data_1,columns=['age', 'workclass', 'fnlwgt', 'educational-num', 'marital-status',\n",
        "       'occupation', 'relationship', 'race', 'gender', 'capital-gain',\n",
        "       'capital-loss', 'hours-per-week', 'native-country', \n",
        "       'education_10th', 'education_11th', 'education_12th',\n",
        "       'education_1st-4th', 'education_5th-6th', 'education_7th-8th',\n",
        "       'education_9th', 'education_Assoc-acdm', 'education_Assoc-voc',\n",
        "       'education_Bachelors', 'education_Doctorate', 'education_HS-grad',\n",
        "       'education_Masters', 'education_Preschool', 'education_Prof-school',\n",
        "       'education_Some-college'])\n",
        "x=data_1\n",
        "\n",
        "y=data_2['income']\n",
        "\n",
        "X_train,X_test,y_train,y_test=train_test_split(x,y,test_size=0.30)\n",
        "\n",
        "imputer_X_train,imputer_X_test,y_train,y_test=(X_train,X_test,y_train,y_test)\n",
        "\n",
        "\n",
        "func1(imputer_X_train,imputer_X_test,y_train,y_test)\n",
        "\n",
        "func2(imputer_X_train,imputer_X_test,y_train,y_test)\n",
        "\n",
        "#func3(imputer_X_train,imputer_X_test,y_train,y_test)\n",
        "\n",
        "func4(imputer_X_train,imputer_X_test,y_train,y_test)\n",
        "\n",
        "func5(imputer_X_train,imputer_X_test,y_train,y_test)\n",
        "\n",
        "func6(imputer_X_train,imputer_X_test,y_train,y_test)\n",
        "\n",
        "func7(imputer_X_train,imputer_X_test,y_train,y_test)\n",
        "\n",
        "\n"
      ],
      "execution_count": null,
      "outputs": [
        {
          "output_type": "stream",
          "text": [
            "Decision Tree Algorithm\n",
            "Accuracy :  1.0\n",
            "Confusion Matrix :  [[11197     0]\n",
            " [    0  3456]]\n",
            "ROC And AUC : 1.0\n",
            "Precision Score : 0.7641438613253259\n",
            "Bagging\n",
            "Accuracy : 1.0\n",
            "Confusion Matrix : [[11197     0]\n",
            " [    0  3456]]\n",
            "ROC And AUC : 1.0\n",
            "Precision : 0.7641438613253259\n",
            "RandomForest Algorithm\n",
            "Accuracy :  1.0\n",
            "Confusion Matrix : [[11197     0]\n",
            " [    0  3456]]\n",
            "ROC And AUC : 1.0\n",
            "Precision Score : 0.7641438613253259\n"
          ],
          "name": "stdout"
        },
        {
          "output_type": "stream",
          "text": [
            "/usr/local/lib/python3.6/dist-packages/sklearn/linear_model/_logistic.py:940: ConvergenceWarning: lbfgs failed to converge (status=1):\n",
            "STOP: TOTAL NO. of ITERATIONS REACHED LIMIT.\n",
            "\n",
            "Increase the number of iterations (max_iter) or scale the data as shown in:\n",
            "    https://scikit-learn.org/stable/modules/preprocessing.html\n",
            "Please also refer to the documentation for alternative solver options:\n",
            "    https://scikit-learn.org/stable/modules/linear_model.html#logistic-regression\n",
            "  extra_warning_msg=_LOGISTIC_SOLVER_CONVERGENCE_MSG)\n"
          ],
          "name": "stderr"
        },
        {
          "output_type": "stream",
          "text": [
            "Logisitic Regression\n",
            "Accuracy :  0.8202415887531563\n",
            "Confusion Matrix :  [[10570   627]\n",
            " [ 2007  1449]]\n",
            "ROC And AUC : 0.6816368456208509\n",
            "Precision : 0.7382664205875253\n",
            "Gradient Boosting Algorithm\n",
            "Accuracy : 1.0\n",
            "Confusion Matrix : [[11197     0]\n",
            " [    0  3456]]\n",
            "ROC And AUC : 1.0\n",
            "Precision : 0.7641438613253259\n",
            "[06:13:33] WARNING: /workspace/src/objective/regression_obj.cu:152: reg:linear is now deprecated in favor of reg:squarederror.\n",
            "XG Boost\n",
            "RMSE :0.000022\n",
            "Ada Boost using Random Forest\n",
            "Accuracy : 1.0\n",
            "Confusion Matrix : [[11197     0]\n",
            " [    0  3456]]\n",
            "ROC And AUC : 1.0\n",
            "Precision : 0.7641438613253259\n"
          ],
          "name": "stdout"
        }
      ]
    },
    {
      "cell_type": "code",
      "metadata": {
        "colab": {
          "base_uri": "https://localhost:8080/"
        },
        "id": "GqSDTGKD6vpg",
        "outputId": "44f4e531-4496-4f79-8ba9-6081a048e80b"
      },
      "source": [
        "#Pre-Processing Technique-6\n",
        "\n",
        "#Fill Missing values with Mean Technique-6\n",
        "\n",
        "data_1['workclass']=data_1['workclass'].fillna((data_1['workclass'].mean()))\n",
        "\n",
        "data_1['occupation']=data_1['occupation'].fillna((data_1['occupation'].mean()))\n",
        "\n",
        "#print(data_1.isna().sum())\n",
        "\n",
        "#data_1.dropna()\n",
        "\n",
        "#Here is there will be missing values with Native-country beacuse i want to apply one hot encoding with native-country columns \n",
        "\n",
        "data_1=pd.get_dummies(columns=['native-country'],data=data_1)\n",
        "\n",
        "#Applying normalization \n",
        "\n",
        "import scipy as stats\n",
        "import pandas as pd\n",
        "import numpy as np\n",
        "\n",
        "\n",
        "from scipy import stats\n",
        "\n",
        "import numpy as np \n",
        "data_1['hours-per-week']=np.abs(stats.zscore(data_1['hours-per-week']))\n",
        "data_1['fnlwgt']=np.abs(stats.zscore(data_1['fnlwgt']))\n",
        "\n",
        "from sklearn.model_selection import train_test_split\n",
        "\n",
        "x=data_1.drop(columns=['income'])\n",
        "y=data_1['income']\n",
        "\n",
        "X_train,X_test,y_train,y_test=train_test_split(x,y,test_size=0.20)\n",
        "\n",
        "func1(X_train,X_test,y_train,y_test)\n",
        "\n",
        "func2(X_train,X_test,y_train,y_test)\n",
        "\n",
        "#func3(X_train,X_test,y_train,y_test)\n",
        "\n",
        "func4(X_train,X_test,y_train,y_test)\n",
        "\n",
        "func5(X_train,X_test,y_train,y_test)\n",
        "\n",
        "func7(X_train,X_test,y_train,y_test)"
      ],
      "execution_count": null,
      "outputs": [
        {
          "output_type": "stream",
          "text": [
            "Decision Tree Algorithm\n",
            "Accuracy :  0.8100112601085065\n",
            "Confusion Matrix :  [[6494  963]\n",
            " [ 893 1419]]\n",
            "ROC And AUC : 0.742306960135457\n",
            "Precision Score : 0.7169650165476281\n",
            "Bagging\n",
            "Accuracy : 0.8555635172484389\n",
            "Confusion Matrix : [[6494  963]\n",
            " [ 893 1419]]\n",
            "ROC And AUC : 0.7711002133106395\n",
            "Precision : 0.7292341846298996\n",
            "RandomForest Algorithm\n",
            "Accuracy :  0.8573037158358071\n",
            "Confusion Matrix : [[6951  506]\n",
            " [ 888 1424]]\n",
            "ROC And AUC : 0.7740306244846462\n",
            "Precision Score : 0.729326641827553\n"
          ],
          "name": "stdout"
        },
        {
          "output_type": "stream",
          "text": [
            "/usr/local/lib/python3.6/dist-packages/sklearn/linear_model/_logistic.py:940: ConvergenceWarning: lbfgs failed to converge (status=1):\n",
            "STOP: TOTAL NO. of ITERATIONS REACHED LIMIT.\n",
            "\n",
            "Increase the number of iterations (max_iter) or scale the data as shown in:\n",
            "    https://scikit-learn.org/stable/modules/preprocessing.html\n",
            "Please also refer to the documentation for alternative solver options:\n",
            "    https://scikit-learn.org/stable/modules/linear_model.html#logistic-regression\n",
            "  extra_warning_msg=_LOGISTIC_SOLVER_CONVERGENCE_MSG)\n"
          ],
          "name": "stderr"
        },
        {
          "output_type": "stream",
          "text": [
            "Logisitic Regression\n",
            "Accuracy :  0.8291534445695568\n",
            "Confusion Matrix :  [[6985  472]\n",
            " [1197 1115]]\n",
            "ROC And AUC : 0.709485102128791\n",
            "Precision : 0.7338422344449831\n",
            "Gradient Boosting Algorithm\n",
            "Accuracy : 0.870713481420821\n",
            "Confusion Matrix : [[7016  441]\n",
            " [ 822 1490]]\n",
            "ROC And AUC : 0.7926623019266634\n",
            "Precision : 0.731696318383344\n",
            "Ada Boost using Random Forest\n",
            "Accuracy : 0.8499334629951889\n",
            "Confusion Matrix : [[6896  561]\n",
            " [ 905 1407]]\n",
            "ROC And AUC : 0.7666663437851061\n",
            "Precision : 0.7273519539978915\n"
          ],
          "name": "stdout"
        }
      ]
    },
    {
      "cell_type": "code",
      "metadata": {
        "id": "snVZjR56d1vA",
        "colab": {
          "base_uri": "https://localhost:8080/"
        },
        "outputId": "23a4ad1d-685a-4f3f-a2e7-0a9e741ea6b6"
      },
      "source": [
        "#Rough Work \n",
        "\"\"\"\n",
        "data_1.shape\n",
        "\n",
        "data_1.iloc[1,0]\n",
        "\n",
        "random.sample(range(-20,2),1)\n",
        "\n",
        "\n",
        "data_1['age'].head()\n",
        "\n",
        "print(data_1['fnlwgt'].unique())\n",
        "\n",
        "print(data_1.columns)\n",
        "\n",
        "print(data_1['capital-loss'].skew())\n",
        "\n",
        "print(data_1.isna().sum())\n",
        "print(data_1.columns)\"\"\"\n",
        "#print(data_1['age'].isna().sum())\n",
        "import seaborn as sns \n",
        "\n",
        "#sns.boxplot(data_1['educational-num'])\n",
        "\n",
        "#data_1.columns\n",
        "#data_1.isna().sum()\n",
        "#data_1=data_1.drop(columns=['native-country'])\n",
        "#sns.boxplot(data_1['hours-per-week'])\n",
        "#sns.heatmap(data_1)\n",
        "data_1=pd.get_dummies(columns=['education'],data=data_1)\n",
        "data_1.columns"
      ],
      "execution_count": null,
      "outputs": [
        {
          "output_type": "execute_result",
          "data": {
            "text/plain": [
              "Index(['age', 'workclass', 'fnlwgt', 'educational-num', 'marital-status',\n",
              "       'occupation', 'relationship', 'race', 'gender', 'capital-gain',\n",
              "       'capital-loss', 'hours-per-week', 'native-country', 'income',\n",
              "       'education_10th', 'education_11th', 'education_12th',\n",
              "       'education_1st-4th', 'education_5th-6th', 'education_7th-8th',\n",
              "       'education_9th', 'education_Assoc-acdm', 'education_Assoc-voc',\n",
              "       'education_Bachelors', 'education_Doctorate', 'education_HS-grad',\n",
              "       'education_Masters', 'education_Preschool', 'education_Prof-school',\n",
              "       'education_Some-college'],\n",
              "      dtype='object')"
            ]
          },
          "metadata": {
            "tags": []
          },
          "execution_count": 20
        }
      ]
    }
  ]
}